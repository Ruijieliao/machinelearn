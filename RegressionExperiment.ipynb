{
 "cells": [
  {
   "cell_type": "code",
   "execution_count": 1,
   "metadata": {},
   "outputs": [
    {
     "name": "stderr",
     "output_type": "stream",
     "text": [
      "WARNING:root:[MemorizedFunc(func=<function get_data at 0x000001A61D51D510>, cachedir='./mycache\\\\joblib')]: Clearing cache ./mycache\\joblib\\__main__-C%3A-Users-Administrator-__ipython-input__\\get_data\n"
     ]
    },
    {
     "name": "stdout",
     "output_type": "stream",
     "text": [
      "________________________________________________________________________________\n",
      "[Memory] Calling __main__-C%3A-Users-Administrator-__ipython-input__.get_data...\n",
      "get_data()\n",
      "_________________________________________________________get_data - 0.0s, 0.0min\n"
     ]
    },
    {
     "data": {
      "image/png": "[encoded data removed]",
      "text/plain": [
       "<matplotlib.figure.Figure at 0x1a62c3d1b38>"
      ]
     },
     "metadata": {},
     "output_type": "display_data"
    }
   ],
   "source": [
    "import sklearn\n",
    "import numpy as np\n",
    "import matplotlib.pyplot as plt\n",
    "from sklearn.externals.joblib import Memory\n",
    "from sklearn.datasets import load_svmlight_file\n",
    "\n",
    "mem = Memory(\"./mycache\")\n",
    "\n",
    "@mem.cache\n",
    "def get_data():\n",
    "    data = load_svmlight_file(\"C:\\\\Users\\\\Administrator\\\\Desktop\\\\housing.txt\")\n",
    "    return data[0], data[1]\n",
    "\n",
    "X, y = get_data()\n",
    "X = X.todense()\n",
    "\n",
    "from sklearn.model_selection import train_test_split\n",
    "X_train, X_test, y_train, y_test = train_test_split(X, y, test_size=0.1, random_state=0)\n",
    "\n",
    "from numpy import *\n",
    "w = mat(zeros((13, 1)))\n",
    "b = np.random.normal()\n",
    "b1 = mat(b)\n",
    "w1 = vstack((w, b1))\n",
    "\n",
    "def loss(x, y):\n",
    "    hnum = len(x)\n",
    "    k1 = mat(ones((hnum, 1)))\n",
    "    xx = hstack((x, k1))\n",
    "    y_t = mat(y).T\n",
    "    tt = y_t - xx*w1\n",
    "    return tt.T*tt\n",
    "\n",
    "def gradient(x, y):\n",
    "    hnum = len(x)\n",
    "    k1 = mat(ones((hnum, 1)))\n",
    "    xx = hstack((x, k1))\n",
    "    xx_t = xx.T\n",
    "    y_t = mat(y).T\n",
    "    t1 = xx*w1\n",
    "\n",
    "    return 2*xx_t*(t1 - y_t)\n",
    "\n",
    "rate = 0.0001\n",
    "listx = []\n",
    "listy = []\n",
    "listz = []\n",
    "for i in range(2000):\n",
    "    w1 = w1 - rate * gradient(X_train, y_train)\n",
    "    listx.append(i)\n",
    "    loss_train=loss(X_train, y_train)\n",
    "\n",
    "    listy.append(loss_train[0, 0])\n",
    "    loss_test = loss(X_test, y_test)\n",
    "\n",
    "    listz.append(loss_test[0, 0])\n",
    "\n",
    "\n",
    "plt.figure('model')\n",
    "plt.plot(listx, listy, label=\"$losstrain$\", color=\"green\", linewidth=3)\n",
    "plt.plot(listx, listz, label=\"$losstest$\", color=\"red\", linewidth=3)\n",
    "plt.title([\"rate=\", rate])\n",
    "plt.legend()\n",
    "plt.show()"
   ]
  }
 ],
 "metadata": {
  "kernelspec": {
   "display_name": "Python 3",
   "language": "python",
   "name": "python3"
  },
  "language_info": {
   "codemirror_mode": {
    "name": "ipython",
    "version": 3
   },
   "file_extension": ".py",
   "mimetype": "text/x-python",
   "name": "python",
   "nbconvert_exporter": "python",
   "pygments_lexer": "ipython3",
   "version": "3.5.4"
  }
 },
 "nbformat": 4,
 "nbformat_minor": 2
}
